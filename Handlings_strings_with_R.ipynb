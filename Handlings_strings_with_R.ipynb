{
  "nbformat": 4,
  "nbformat_minor": 0,
  "metadata": {
    "colab": {
      "name": "Handlings strings with R.ipynb",
      "provenance": [],
      "authorship_tag": "ABX9TyMTQl4jaekHGfEYehLJ3OxJ",
      "include_colab_link": true
    },
    "kernelspec": {
      "name": "ir",
      "display_name": "R"
    },
    "language_info": {
      "name": "R"
    }
  },
  "cells": [
    {
      "cell_type": "markdown",
      "metadata": {
        "id": "view-in-github",
        "colab_type": "text"
      },
      "source": [
        "<a href=\"https://colab.research.google.com/github/T-art-coder/LearningNotebooksR/blob/main/Handlings_strings_with_R.ipynb\" target=\"_parent\"><img src=\"https://colab.research.google.com/assets/colab-badge.svg\" alt=\"Open In Colab\"/></a>"
      ]
    },
    {
      "cell_type": "code",
      "execution_count": null,
      "metadata": {
        "colab": {
          "base_uri": "https://localhost:8080/"
        },
        "id": "KGWSPVn2JxlC",
        "outputId": "a66ad422-5cee-4269-b28a-fa313381ef87"
      },
      "outputs": [
        {
          "output_type": "stream",
          "name": "stderr",
          "text": [
            "Installing package into ‘/usr/local/lib/R/site-library’\n",
            "(as ‘lib’ is unspecified)\n",
            "\n",
            "Installing package into ‘/usr/local/lib/R/site-library’\n",
            "(as ‘lib’ is unspecified)\n",
            "\n"
          ]
        }
      ],
      "source": [
        "install.packages(\"tidyverse\")\n",
        "install.packages(\"stringr\")"
      ]
    },
    {
      "cell_type": "code",
      "source": [
        "library(tidyverse)\n",
        "library(stringr)"
      ],
      "metadata": {
        "colab": {
          "base_uri": "https://localhost:8080/"
        },
        "id": "tjp5_D7eJ4ZH",
        "outputId": "78f56955-3ebb-4e61-ac04-2b2815779696"
      },
      "execution_count": 1,
      "outputs": [
        {
          "output_type": "stream",
          "name": "stderr",
          "text": [
            "Warning message in system(\"timedatectl\", intern = TRUE):\n",
            "“running command 'timedatectl' had status 1”\n",
            "── \u001b[1mAttaching packages\u001b[22m ─────────────────────────────────────── tidyverse 1.3.1 ──\n",
            "\n",
            "\u001b[32m✔\u001b[39m \u001b[34mggplot2\u001b[39m 3.3.6     \u001b[32m✔\u001b[39m \u001b[34mpurrr  \u001b[39m 0.3.4\n",
            "\u001b[32m✔\u001b[39m \u001b[34mtibble \u001b[39m 3.1.7     \u001b[32m✔\u001b[39m \u001b[34mdplyr  \u001b[39m 1.0.9\n",
            "\u001b[32m✔\u001b[39m \u001b[34mtidyr  \u001b[39m 1.2.0     \u001b[32m✔\u001b[39m \u001b[34mstringr\u001b[39m 1.4.0\n",
            "\u001b[32m✔\u001b[39m \u001b[34mreadr  \u001b[39m 2.1.2     \u001b[32m✔\u001b[39m \u001b[34mforcats\u001b[39m 0.5.1\n",
            "\n",
            "── \u001b[1mConflicts\u001b[22m ────────────────────────────────────────── tidyverse_conflicts() ──\n",
            "\u001b[31m✖\u001b[39m \u001b[34mdplyr\u001b[39m::\u001b[32mfilter()\u001b[39m masks \u001b[34mstats\u001b[39m::filter()\n",
            "\u001b[31m✖\u001b[39m \u001b[34mdplyr\u001b[39m::\u001b[32mlag()\u001b[39m    masks \u001b[34mstats\u001b[39m::lag()\n",
            "\n"
          ]
        }
      ]
    },
    {
      "cell_type": "markdown",
      "source": [
        "# Summary of useful functions:\n",
        "## 1. Introduction\n",
        "1. **abbreviate(x, minlength = 5)**\n",
        "\n",
        "2. **the longest name**\n",
        "\n",
        "```\n",
        " size (in characters) of each name\n",
        "state_chars = nchar(states)\n",
        "state_chars\n",
        "#>  [1]  7  6  7  8 10  8 11  8  7  7  6  5  8  7  4  6  8  9  5  8 13  8  9 11  8\n",
        "#> [26]  7  8  6 13 10 10  8 14 12  4  8  6 12 12 14 12  9  5  4  7  8 10 13  9  7\n",
        "\n",
        "# longest name\n",
        "states[which(state_chars == max(state_chars))]\n",
        "```\n",
        "\n",
        "3. Count appereance of a pattern - str_count\n",
        "\n",
        "\n",
        "\n",
        "```\n",
        "str_count(states, \"a\")\n",
        "```\n",
        "\n"
      ],
      "metadata": {
        "id": "1H1qaEKhLEcc"
      }
    },
    {
      "cell_type": "markdown",
      "source": [
        "Использование tolower в функции, переводящей градусы в разные шкалы\n",
        "\n",
        "```\n",
        "temp_convert <- function(deg = 1, to = \"celsius\") {\n",
        "  switch(tolower(to),\n",
        "         \"celsius\" = (deg - 32) * (5/9),\n",
        "         \"kelvin\" = (deg + 459.67) * (5/9),\n",
        "         \"reaumur\" = (deg - 32) * (4/9),\n",
        "         \"rankine\" = deg + 459.67)\n",
        "}\n",
        "```\n",
        "\n",
        "\n",
        "\n",
        "```\n",
        "# remove whitespaces on both sides\n",
        "str_trim(bad_text, side = \"both\")\n",
        "```\n",
        "\n",
        "\n",
        "\n"
      ],
      "metadata": {
        "id": "ch2pEpRDRa4o"
      }
    },
    {
      "cell_type": "markdown",
      "source": [
        "## 1. Introduction"
      ],
      "metadata": {
        "id": "yro16DuxKYGu"
      }
    },
    {
      "cell_type": "markdown",
      "source": [
        "### 1.1.1 Abbreviating strings"
      ],
      "metadata": {
        "id": "h9qUbcaSKWLd"
      }
    },
    {
      "cell_type": "code",
      "source": [
        "states <- rownames(USArrests)\n",
        "\n",
        "head(states)"
      ],
      "metadata": {
        "colab": {
          "base_uri": "https://localhost:8080/",
          "height": 34
        },
        "id": "hqPa5RUEKU1-",
        "outputId": "0b245a24-33cf-44e7-df7f-59fabeb39a03"
      },
      "execution_count": null,
      "outputs": [
        {
          "output_type": "display_data",
          "data": {
            "text/html": [
              "<style>\n",
              ".list-inline {list-style: none; margin:0; padding: 0}\n",
              ".list-inline>li {display: inline-block}\n",
              ".list-inline>li:not(:last-child)::after {content: \"\\00b7\"; padding: 0 .5ex}\n",
              "</style>\n",
              "<ol class=list-inline><li>'Alabama'</li><li>'Alaska'</li><li>'Arizona'</li><li>'Arkansas'</li><li>'California'</li><li>'Colorado'</li></ol>\n"
            ],
            "text/markdown": "1. 'Alabama'\n2. 'Alaska'\n3. 'Arizona'\n4. 'Arkansas'\n5. 'California'\n6. 'Colorado'\n\n\n",
            "text/latex": "\\begin{enumerate*}\n\\item 'Alabama'\n\\item 'Alaska'\n\\item 'Arizona'\n\\item 'Arkansas'\n\\item 'California'\n\\item 'Colorado'\n\\end{enumerate*}\n",
            "text/plain": [
              "[1] \"Alabama\"    \"Alaska\"     \"Arizona\"    \"Arkansas\"   \"California\"\n",
              "[6] \"Colorado\"  "
            ]
          },
          "metadata": {}
        }
      ]
    },
    {
      "cell_type": "code",
      "source": [
        "# Make abbreviation\n",
        "\n",
        "substr(x = states, start = 1, stop = 4)\n",
        "\n",
        "# Disadvantage of this approach - we can have identical substring for different strin (New York, New Hampshir)"
      ],
      "metadata": {
        "colab": {
          "base_uri": "https://localhost:8080/",
          "height": 68
        },
        "id": "WvcQGrMYKU52",
        "outputId": "d3c42eca-26ff-4235-c774-78b9c48dba8e"
      },
      "execution_count": null,
      "outputs": [
        {
          "output_type": "display_data",
          "data": {
            "text/html": [
              "<style>\n",
              ".list-inline {list-style: none; margin:0; padding: 0}\n",
              ".list-inline>li {display: inline-block}\n",
              ".list-inline>li:not(:last-child)::after {content: \"\\00b7\"; padding: 0 .5ex}\n",
              "</style>\n",
              "<ol class=list-inline><li>'Alab'</li><li>'Alas'</li><li>'Ariz'</li><li>'Arka'</li><li>'Cali'</li><li>'Colo'</li><li>'Conn'</li><li>'Dela'</li><li>'Flor'</li><li>'Geor'</li><li>'Hawa'</li><li>'Idah'</li><li>'Illi'</li><li>'Indi'</li><li>'Iowa'</li><li>'Kans'</li><li>'Kent'</li><li>'Loui'</li><li>'Main'</li><li>'Mary'</li><li>'Mass'</li><li>'Mich'</li><li>'Minn'</li><li>'Miss'</li><li>'Miss'</li><li>'Mont'</li><li>'Nebr'</li><li>'Neva'</li><li>'New '</li><li>'New '</li><li>'New '</li><li>'New '</li><li>'Nort'</li><li>'Nort'</li><li>'Ohio'</li><li>'Okla'</li><li>'Oreg'</li><li>'Penn'</li><li>'Rhod'</li><li>'Sout'</li><li>'Sout'</li><li>'Tenn'</li><li>'Texa'</li><li>'Utah'</li><li>'Verm'</li><li>'Virg'</li><li>'Wash'</li><li>'West'</li><li>'Wisc'</li><li>'Wyom'</li></ol>\n"
            ],
            "text/markdown": "1. 'Alab'\n2. 'Alas'\n3. 'Ariz'\n4. 'Arka'\n5. 'Cali'\n6. 'Colo'\n7. 'Conn'\n8. 'Dela'\n9. 'Flor'\n10. 'Geor'\n11. 'Hawa'\n12. 'Idah'\n13. 'Illi'\n14. 'Indi'\n15. 'Iowa'\n16. 'Kans'\n17. 'Kent'\n18. 'Loui'\n19. 'Main'\n20. 'Mary'\n21. 'Mass'\n22. 'Mich'\n23. 'Minn'\n24. 'Miss'\n25. 'Miss'\n26. 'Mont'\n27. 'Nebr'\n28. 'Neva'\n29. 'New '\n30. 'New '\n31. 'New '\n32. 'New '\n33. 'Nort'\n34. 'Nort'\n35. 'Ohio'\n36. 'Okla'\n37. 'Oreg'\n38. 'Penn'\n39. 'Rhod'\n40. 'Sout'\n41. 'Sout'\n42. 'Tenn'\n43. 'Texa'\n44. 'Utah'\n45. 'Verm'\n46. 'Virg'\n47. 'Wash'\n48. 'West'\n49. 'Wisc'\n50. 'Wyom'\n\n\n",
            "text/latex": "\\begin{enumerate*}\n\\item 'Alab'\n\\item 'Alas'\n\\item 'Ariz'\n\\item 'Arka'\n\\item 'Cali'\n\\item 'Colo'\n\\item 'Conn'\n\\item 'Dela'\n\\item 'Flor'\n\\item 'Geor'\n\\item 'Hawa'\n\\item 'Idah'\n\\item 'Illi'\n\\item 'Indi'\n\\item 'Iowa'\n\\item 'Kans'\n\\item 'Kent'\n\\item 'Loui'\n\\item 'Main'\n\\item 'Mary'\n\\item 'Mass'\n\\item 'Mich'\n\\item 'Minn'\n\\item 'Miss'\n\\item 'Miss'\n\\item 'Mont'\n\\item 'Nebr'\n\\item 'Neva'\n\\item 'New '\n\\item 'New '\n\\item 'New '\n\\item 'New '\n\\item 'Nort'\n\\item 'Nort'\n\\item 'Ohio'\n\\item 'Okla'\n\\item 'Oreg'\n\\item 'Penn'\n\\item 'Rhod'\n\\item 'Sout'\n\\item 'Sout'\n\\item 'Tenn'\n\\item 'Texa'\n\\item 'Utah'\n\\item 'Verm'\n\\item 'Virg'\n\\item 'Wash'\n\\item 'West'\n\\item 'Wisc'\n\\item 'Wyom'\n\\end{enumerate*}\n",
            "text/plain": [
              " [1] \"Alab\" \"Alas\" \"Ariz\" \"Arka\" \"Cali\" \"Colo\" \"Conn\" \"Dela\" \"Flor\" \"Geor\"\n",
              "[11] \"Hawa\" \"Idah\" \"Illi\" \"Indi\" \"Iowa\" \"Kans\" \"Kent\" \"Loui\" \"Main\" \"Mary\"\n",
              "[21] \"Mass\" \"Mich\" \"Minn\" \"Miss\" \"Miss\" \"Mont\" \"Nebr\" \"Neva\" \"New \" \"New \"\n",
              "[31] \"New \" \"New \" \"Nort\" \"Nort\" \"Ohio\" \"Okla\" \"Oreg\" \"Penn\" \"Rhod\" \"Sout\"\n",
              "[41] \"Sout\" \"Tenn\" \"Texa\" \"Utah\" \"Verm\" \"Virg\" \"Wash\" \"West\" \"Wisc\" \"Wyom\""
            ]
          },
          "metadata": {}
        }
      ]
    },
    {
      "cell_type": "code",
      "source": [
        "# let's use abbreviate\n",
        "\n",
        "states2 <- abbreviate(states)\n",
        "names(states2) <- NULL\n",
        "\n",
        "states2"
      ],
      "metadata": {
        "colab": {
          "base_uri": "https://localhost:8080/",
          "height": 68
        },
        "id": "JnJzdMcBKU8G",
        "outputId": "c7b0b061-9ff3-403c-8f6a-febc12cdc3fa"
      },
      "execution_count": null,
      "outputs": [
        {
          "output_type": "display_data",
          "data": {
            "text/html": [
              "<style>\n",
              ".list-inline {list-style: none; margin:0; padding: 0}\n",
              ".list-inline>li {display: inline-block}\n",
              ".list-inline>li:not(:last-child)::after {content: \"\\00b7\"; padding: 0 .5ex}\n",
              "</style>\n",
              "<ol class=list-inline><li>'Albm'</li><li>'Alsk'</li><li>'Arzn'</li><li>'Arkn'</li><li>'Clfr'</li><li>'Clrd'</li><li>'Cnnc'</li><li>'Dlwr'</li><li>'Flrd'</li><li>'Gerg'</li><li>'Hawa'</li><li>'Idah'</li><li>'Illn'</li><li>'Indn'</li><li>'Iowa'</li><li>'Knss'</li><li>'Kntc'</li><li>'Losn'</li><li>'Main'</li><li>'Mryl'</li><li>'Mssc'</li><li>'Mchg'</li><li>'Mnns'</li><li>'Msss'</li><li>'Mssr'</li><li>'Mntn'</li><li>'Nbrs'</li><li>'Nevd'</li><li>'NwHm'</li><li>'NwJr'</li><li>'NwMx'</li><li>'NwYr'</li><li>'NrtC'</li><li>'NrtD'</li><li>'Ohio'</li><li>'Oklh'</li><li>'Orgn'</li><li>'Pnns'</li><li>'RhdI'</li><li>'SthC'</li><li>'SthD'</li><li>'Tnns'</li><li>'Texs'</li><li>'Utah'</li><li>'Vrmn'</li><li>'Vrgn'</li><li>'Wshn'</li><li>'WstV'</li><li>'Wscn'</li><li>'Wymn'</li></ol>\n"
            ],
            "text/markdown": "1. 'Albm'\n2. 'Alsk'\n3. 'Arzn'\n4. 'Arkn'\n5. 'Clfr'\n6. 'Clrd'\n7. 'Cnnc'\n8. 'Dlwr'\n9. 'Flrd'\n10. 'Gerg'\n11. 'Hawa'\n12. 'Idah'\n13. 'Illn'\n14. 'Indn'\n15. 'Iowa'\n16. 'Knss'\n17. 'Kntc'\n18. 'Losn'\n19. 'Main'\n20. 'Mryl'\n21. 'Mssc'\n22. 'Mchg'\n23. 'Mnns'\n24. 'Msss'\n25. 'Mssr'\n26. 'Mntn'\n27. 'Nbrs'\n28. 'Nevd'\n29. 'NwHm'\n30. 'NwJr'\n31. 'NwMx'\n32. 'NwYr'\n33. 'NrtC'\n34. 'NrtD'\n35. 'Ohio'\n36. 'Oklh'\n37. 'Orgn'\n38. 'Pnns'\n39. 'RhdI'\n40. 'SthC'\n41. 'SthD'\n42. 'Tnns'\n43. 'Texs'\n44. 'Utah'\n45. 'Vrmn'\n46. 'Vrgn'\n47. 'Wshn'\n48. 'WstV'\n49. 'Wscn'\n50. 'Wymn'\n\n\n",
            "text/latex": "\\begin{enumerate*}\n\\item 'Albm'\n\\item 'Alsk'\n\\item 'Arzn'\n\\item 'Arkn'\n\\item 'Clfr'\n\\item 'Clrd'\n\\item 'Cnnc'\n\\item 'Dlwr'\n\\item 'Flrd'\n\\item 'Gerg'\n\\item 'Hawa'\n\\item 'Idah'\n\\item 'Illn'\n\\item 'Indn'\n\\item 'Iowa'\n\\item 'Knss'\n\\item 'Kntc'\n\\item 'Losn'\n\\item 'Main'\n\\item 'Mryl'\n\\item 'Mssc'\n\\item 'Mchg'\n\\item 'Mnns'\n\\item 'Msss'\n\\item 'Mssr'\n\\item 'Mntn'\n\\item 'Nbrs'\n\\item 'Nevd'\n\\item 'NwHm'\n\\item 'NwJr'\n\\item 'NwMx'\n\\item 'NwYr'\n\\item 'NrtC'\n\\item 'NrtD'\n\\item 'Ohio'\n\\item 'Oklh'\n\\item 'Orgn'\n\\item 'Pnns'\n\\item 'RhdI'\n\\item 'SthC'\n\\item 'SthD'\n\\item 'Tnns'\n\\item 'Texs'\n\\item 'Utah'\n\\item 'Vrmn'\n\\item 'Vrgn'\n\\item 'Wshn'\n\\item 'WstV'\n\\item 'Wscn'\n\\item 'Wymn'\n\\end{enumerate*}\n",
            "text/plain": [
              " [1] \"Albm\" \"Alsk\" \"Arzn\" \"Arkn\" \"Clfr\" \"Clrd\" \"Cnnc\" \"Dlwr\" \"Flrd\" \"Gerg\"\n",
              "[11] \"Hawa\" \"Idah\" \"Illn\" \"Indn\" \"Iowa\" \"Knss\" \"Kntc\" \"Losn\" \"Main\" \"Mryl\"\n",
              "[21] \"Mssc\" \"Mchg\" \"Mnns\" \"Msss\" \"Mssr\" \"Mntn\" \"Nbrs\" \"Nevd\" \"NwHm\" \"NwJr\"\n",
              "[31] \"NwMx\" \"NwYr\" \"NrtC\" \"NrtD\" \"Ohio\" \"Oklh\" \"Orgn\" \"Pnns\" \"RhdI\" \"SthC\"\n",
              "[41] \"SthD\" \"Tnns\" \"Texs\" \"Utah\" \"Vrmn\" \"Vrgn\" \"Wshn\" \"WstV\" \"Wscn\" \"Wymn\""
            ]
          },
          "metadata": {}
        }
      ]
    },
    {
      "cell_type": "code",
      "source": [
        "# abbreviate state names with 5 letters\n",
        "abbreviate(states, minlength = 5)"
      ],
      "metadata": {
        "colab": {
          "base_uri": "https://localhost:8080/",
          "height": 173
        },
        "id": "_gaHoLYYKU-f",
        "outputId": "0092bc82-2a71-4c95-ba11-71fd738232fc"
      },
      "execution_count": null,
      "outputs": [
        {
          "output_type": "display_data",
          "data": {
            "text/html": [
              "<style>\n",
              ".dl-inline {width: auto; margin:0; padding: 0}\n",
              ".dl-inline>dt, .dl-inline>dd {float: none; width: auto; display: inline-block}\n",
              ".dl-inline>dt::after {content: \":\\0020\"; padding-right: .5ex}\n",
              ".dl-inline>dt:not(:first-of-type) {padding-left: .5ex}\n",
              "</style><dl class=dl-inline><dt>Alabama</dt><dd>'Alabm'</dd><dt>Alaska</dt><dd>'Alask'</dd><dt>Arizona</dt><dd>'Arizn'</dd><dt>Arkansas</dt><dd>'Arkns'</dd><dt>California</dt><dd>'Clfrn'</dd><dt>Colorado</dt><dd>'Colrd'</dd><dt>Connecticut</dt><dd>'Cnnct'</dd><dt>Delaware</dt><dd>'Delwr'</dd><dt>Florida</dt><dd>'Flord'</dd><dt>Georgia</dt><dd>'Georg'</dd><dt>Hawaii</dt><dd>'Hawai'</dd><dt>Idaho</dt><dd>'Idaho'</dd><dt>Illinois</dt><dd>'Illns'</dd><dt>Indiana</dt><dd>'Indin'</dd><dt>Iowa</dt><dd>'Iowa'</dd><dt>Kansas</dt><dd>'Kanss'</dd><dt>Kentucky</dt><dd>'Kntck'</dd><dt>Louisiana</dt><dd>'Lousn'</dd><dt>Maine</dt><dd>'Maine'</dd><dt>Maryland</dt><dd>'Mryln'</dd><dt>Massachusetts</dt><dd>'Mssch'</dd><dt>Michigan</dt><dd>'Mchgn'</dd><dt>Minnesota</dt><dd>'Mnnst'</dd><dt>Mississippi</dt><dd>'Mssss'</dd><dt>Missouri</dt><dd>'Missr'</dd><dt>Montana</dt><dd>'Montn'</dd><dt>Nebraska</dt><dd>'Nbrsk'</dd><dt>Nevada</dt><dd>'Nevad'</dd><dt>New Hampshire</dt><dd>'NwHmp'</dd><dt>New Jersey</dt><dd>'NwJrs'</dd><dt>New Mexico</dt><dd>'NwMxc'</dd><dt>New York</dt><dd>'NwYrk'</dd><dt>North Carolina</dt><dd>'NrthC'</dd><dt>North Dakota</dt><dd>'NrthD'</dd><dt>Ohio</dt><dd>'Ohio'</dd><dt>Oklahoma</dt><dd>'Oklhm'</dd><dt>Oregon</dt><dd>'Oregn'</dd><dt>Pennsylvania</dt><dd>'Pnnsy'</dd><dt>Rhode Island</dt><dd>'RhdIs'</dd><dt>South Carolina</dt><dd>'SthCr'</dd><dt>South Dakota</dt><dd>'SthDk'</dd><dt>Tennessee</dt><dd>'Tnnss'</dd><dt>Texas</dt><dd>'Texas'</dd><dt>Utah</dt><dd>'Utah'</dd><dt>Vermont</dt><dd>'Vrmnt'</dd><dt>Virginia</dt><dd>'Virgn'</dd><dt>Washington</dt><dd>'Wshng'</dd><dt>West Virginia</dt><dd>'WstVr'</dd><dt>Wisconsin</dt><dd>'Wscns'</dd><dt>Wyoming</dt><dd>'Wymng'</dd></dl>\n"
            ],
            "text/markdown": "Alabama\n:   'Alabm'Alaska\n:   'Alask'Arizona\n:   'Arizn'Arkansas\n:   'Arkns'California\n:   'Clfrn'Colorado\n:   'Colrd'Connecticut\n:   'Cnnct'Delaware\n:   'Delwr'Florida\n:   'Flord'Georgia\n:   'Georg'Hawaii\n:   'Hawai'Idaho\n:   'Idaho'Illinois\n:   'Illns'Indiana\n:   'Indin'Iowa\n:   'Iowa'Kansas\n:   'Kanss'Kentucky\n:   'Kntck'Louisiana\n:   'Lousn'Maine\n:   'Maine'Maryland\n:   'Mryln'Massachusetts\n:   'Mssch'Michigan\n:   'Mchgn'Minnesota\n:   'Mnnst'Mississippi\n:   'Mssss'Missouri\n:   'Missr'Montana\n:   'Montn'Nebraska\n:   'Nbrsk'Nevada\n:   'Nevad'New Hampshire\n:   'NwHmp'New Jersey\n:   'NwJrs'New Mexico\n:   'NwMxc'New York\n:   'NwYrk'North Carolina\n:   'NrthC'North Dakota\n:   'NrthD'Ohio\n:   'Ohio'Oklahoma\n:   'Oklhm'Oregon\n:   'Oregn'Pennsylvania\n:   'Pnnsy'Rhode Island\n:   'RhdIs'South Carolina\n:   'SthCr'South Dakota\n:   'SthDk'Tennessee\n:   'Tnnss'Texas\n:   'Texas'Utah\n:   'Utah'Vermont\n:   'Vrmnt'Virginia\n:   'Virgn'Washington\n:   'Wshng'West Virginia\n:   'WstVr'Wisconsin\n:   'Wscns'Wyoming\n:   'Wymng'\n\n",
            "text/latex": "\\begin{description*}\n\\item[Alabama] 'Alabm'\n\\item[Alaska] 'Alask'\n\\item[Arizona] 'Arizn'\n\\item[Arkansas] 'Arkns'\n\\item[California] 'Clfrn'\n\\item[Colorado] 'Colrd'\n\\item[Connecticut] 'Cnnct'\n\\item[Delaware] 'Delwr'\n\\item[Florida] 'Flord'\n\\item[Georgia] 'Georg'\n\\item[Hawaii] 'Hawai'\n\\item[Idaho] 'Idaho'\n\\item[Illinois] 'Illns'\n\\item[Indiana] 'Indin'\n\\item[Iowa] 'Iowa'\n\\item[Kansas] 'Kanss'\n\\item[Kentucky] 'Kntck'\n\\item[Louisiana] 'Lousn'\n\\item[Maine] 'Maine'\n\\item[Maryland] 'Mryln'\n\\item[Massachusetts] 'Mssch'\n\\item[Michigan] 'Mchgn'\n\\item[Minnesota] 'Mnnst'\n\\item[Mississippi] 'Mssss'\n\\item[Missouri] 'Missr'\n\\item[Montana] 'Montn'\n\\item[Nebraska] 'Nbrsk'\n\\item[Nevada] 'Nevad'\n\\item[New Hampshire] 'NwHmp'\n\\item[New Jersey] 'NwJrs'\n\\item[New Mexico] 'NwMxc'\n\\item[New York] 'NwYrk'\n\\item[North Carolina] 'NrthC'\n\\item[North Dakota] 'NrthD'\n\\item[Ohio] 'Ohio'\n\\item[Oklahoma] 'Oklhm'\n\\item[Oregon] 'Oregn'\n\\item[Pennsylvania] 'Pnnsy'\n\\item[Rhode Island] 'RhdIs'\n\\item[South Carolina] 'SthCr'\n\\item[South Dakota] 'SthDk'\n\\item[Tennessee] 'Tnnss'\n\\item[Texas] 'Texas'\n\\item[Utah] 'Utah'\n\\item[Vermont] 'Vrmnt'\n\\item[Virginia] 'Virgn'\n\\item[Washington] 'Wshng'\n\\item[West Virginia] 'WstVr'\n\\item[Wisconsin] 'Wscns'\n\\item[Wyoming] 'Wymng'\n\\end{description*}\n",
            "text/plain": [
              "       Alabama         Alaska        Arizona       Arkansas     California \n",
              "       \"Alabm\"        \"Alask\"        \"Arizn\"        \"Arkns\"        \"Clfrn\" \n",
              "      Colorado    Connecticut       Delaware        Florida        Georgia \n",
              "       \"Colrd\"        \"Cnnct\"        \"Delwr\"        \"Flord\"        \"Georg\" \n",
              "        Hawaii          Idaho       Illinois        Indiana           Iowa \n",
              "       \"Hawai\"        \"Idaho\"        \"Illns\"        \"Indin\"         \"Iowa\" \n",
              "        Kansas       Kentucky      Louisiana          Maine       Maryland \n",
              "       \"Kanss\"        \"Kntck\"        \"Lousn\"        \"Maine\"        \"Mryln\" \n",
              " Massachusetts       Michigan      Minnesota    Mississippi       Missouri \n",
              "       \"Mssch\"        \"Mchgn\"        \"Mnnst\"        \"Mssss\"        \"Missr\" \n",
              "       Montana       Nebraska         Nevada  New Hampshire     New Jersey \n",
              "       \"Montn\"        \"Nbrsk\"        \"Nevad\"        \"NwHmp\"        \"NwJrs\" \n",
              "    New Mexico       New York North Carolina   North Dakota           Ohio \n",
              "       \"NwMxc\"        \"NwYrk\"        \"NrthC\"        \"NrthD\"         \"Ohio\" \n",
              "      Oklahoma         Oregon   Pennsylvania   Rhode Island South Carolina \n",
              "       \"Oklhm\"        \"Oregn\"        \"Pnnsy\"        \"RhdIs\"        \"SthCr\" \n",
              "  South Dakota      Tennessee          Texas           Utah        Vermont \n",
              "       \"SthDk\"        \"Tnnss\"        \"Texas\"         \"Utah\"        \"Vrmnt\" \n",
              "      Virginia     Washington  West Virginia      Wisconsin        Wyoming \n",
              "       \"Virgn\"        \"Wshng\"        \"WstVr\"        \"Wscns\"        \"Wymng\" "
            ]
          },
          "metadata": {}
        }
      ]
    },
    {
      "cell_type": "markdown",
      "source": [
        "### 1.1.3 Selecting States - Choose by a pattern"
      ],
      "metadata": {
        "id": "DsKzsMpsLo--"
      }
    },
    {
      "cell_type": "code",
      "source": [
        "# get states names with 'F'\n",
        "\n",
        "grep(pattern = \"w\", x = states, value = TRUE)"
      ],
      "metadata": {
        "colab": {
          "base_uri": "https://localhost:8080/",
          "height": 34
        },
        "id": "Kyd4_8FPLuUw",
        "outputId": "aa8a4f92-5dcb-4b06-a331-4f917598c02b"
      },
      "execution_count": null,
      "outputs": [
        {
          "output_type": "display_data",
          "data": {
            "text/html": [
              "<style>\n",
              ".list-inline {list-style: none; margin:0; padding: 0}\n",
              ".list-inline>li {display: inline-block}\n",
              ".list-inline>li:not(:last-child)::after {content: \"\\00b7\"; padding: 0 .5ex}\n",
              "</style>\n",
              "<ol class=list-inline><li>'Delaware'</li><li>'Hawaii'</li><li>'Iowa'</li><li>'New Hampshire'</li><li>'New Jersey'</li><li>'New Mexico'</li><li>'New York'</li></ol>\n"
            ],
            "text/markdown": "1. 'Delaware'\n2. 'Hawaii'\n3. 'Iowa'\n4. 'New Hampshire'\n5. 'New Jersey'\n6. 'New Mexico'\n7. 'New York'\n\n\n",
            "text/latex": "\\begin{enumerate*}\n\\item 'Delaware'\n\\item 'Hawaii'\n\\item 'Iowa'\n\\item 'New Hampshire'\n\\item 'New Jersey'\n\\item 'New Mexico'\n\\item 'New York'\n\\end{enumerate*}\n",
            "text/plain": [
              "[1] \"Delaware\"      \"Hawaii\"        \"Iowa\"          \"New Hampshire\"\n",
              "[5] \"New Jersey\"    \"New Mexico\"    \"New York\"     "
            ]
          },
          "metadata": {}
        }
      ]
    },
    {
      "cell_type": "code",
      "source": [
        "# get states names with 'w' or 'W'\n",
        "grep(pattern = \"[wW]\", x = states, value = TRUE)"
      ],
      "metadata": {
        "colab": {
          "base_uri": "https://localhost:8080/",
          "height": 34
        },
        "id": "0t-rqKTlLuSW",
        "outputId": "353aec91-9e90-4890-86dc-2a6fbf64593e"
      },
      "execution_count": null,
      "outputs": [
        {
          "output_type": "display_data",
          "data": {
            "text/html": [
              "<style>\n",
              ".list-inline {list-style: none; margin:0; padding: 0}\n",
              ".list-inline>li {display: inline-block}\n",
              ".list-inline>li:not(:last-child)::after {content: \"\\00b7\"; padding: 0 .5ex}\n",
              "</style>\n",
              "<ol class=list-inline><li>'Delaware'</li><li>'Hawaii'</li><li>'Iowa'</li><li>'New Hampshire'</li><li>'New Jersey'</li><li>'New Mexico'</li><li>'New York'</li><li>'Washington'</li><li>'West Virginia'</li><li>'Wisconsin'</li><li>'Wyoming'</li></ol>\n"
            ],
            "text/markdown": "1. 'Delaware'\n2. 'Hawaii'\n3. 'Iowa'\n4. 'New Hampshire'\n5. 'New Jersey'\n6. 'New Mexico'\n7. 'New York'\n8. 'Washington'\n9. 'West Virginia'\n10. 'Wisconsin'\n11. 'Wyoming'\n\n\n",
            "text/latex": "\\begin{enumerate*}\n\\item 'Delaware'\n\\item 'Hawaii'\n\\item 'Iowa'\n\\item 'New Hampshire'\n\\item 'New Jersey'\n\\item 'New Mexico'\n\\item 'New York'\n\\item 'Washington'\n\\item 'West Virginia'\n\\item 'Wisconsin'\n\\item 'Wyoming'\n\\end{enumerate*}\n",
            "text/plain": [
              " [1] \"Delaware\"      \"Hawaii\"        \"Iowa\"          \"New Hampshire\"\n",
              " [5] \"New Jersey\"    \"New Mexico\"    \"New York\"      \"Washington\"   \n",
              " [9] \"West Virginia\" \"Wisconsin\"     \"Wyoming\"      "
            ]
          },
          "metadata": {}
        }
      ]
    },
    {
      "cell_type": "code",
      "source": [
        "# get states names with 'w'\n",
        "grep(pattern = \"w\", x = tolower(states), value = TRUE)"
      ],
      "metadata": {
        "colab": {
          "base_uri": "https://localhost:8080/",
          "height": 34
        },
        "id": "_SHcw6GPLuP1",
        "outputId": "bb481fd1-9307-466e-ff33-6c9a6a5c1299"
      },
      "execution_count": null,
      "outputs": [
        {
          "output_type": "display_data",
          "data": {
            "text/html": [
              "<style>\n",
              ".list-inline {list-style: none; margin:0; padding: 0}\n",
              ".list-inline>li {display: inline-block}\n",
              ".list-inline>li:not(:last-child)::after {content: \"\\00b7\"; padding: 0 .5ex}\n",
              "</style>\n",
              "<ol class=list-inline><li>'delaware'</li><li>'hawaii'</li><li>'iowa'</li><li>'new hampshire'</li><li>'new jersey'</li><li>'new mexico'</li><li>'new york'</li><li>'washington'</li><li>'west virginia'</li><li>'wisconsin'</li><li>'wyoming'</li></ol>\n"
            ],
            "text/markdown": "1. 'delaware'\n2. 'hawaii'\n3. 'iowa'\n4. 'new hampshire'\n5. 'new jersey'\n6. 'new mexico'\n7. 'new york'\n8. 'washington'\n9. 'west virginia'\n10. 'wisconsin'\n11. 'wyoming'\n\n\n",
            "text/latex": "\\begin{enumerate*}\n\\item 'delaware'\n\\item 'hawaii'\n\\item 'iowa'\n\\item 'new hampshire'\n\\item 'new jersey'\n\\item 'new mexico'\n\\item 'new york'\n\\item 'washington'\n\\item 'west virginia'\n\\item 'wisconsin'\n\\item 'wyoming'\n\\end{enumerate*}\n",
            "text/plain": [
              " [1] \"delaware\"      \"hawaii\"        \"iowa\"          \"new hampshire\"\n",
              " [5] \"new jersey\"    \"new mexico\"    \"new york\"      \"washington\"   \n",
              " [9] \"west virginia\" \"wisconsin\"     \"wyoming\"      "
            ]
          },
          "metadata": {}
        }
      ]
    },
    {
      "cell_type": "markdown",
      "source": [
        "A third solution involves specifying the argument ignore.case=TRUE inside grep():"
      ],
      "metadata": {
        "id": "zX11CgaEMBV9"
      }
    },
    {
      "cell_type": "markdown",
      "source": [
        "### 1.1.4 Some computations"
      ],
      "metadata": {
        "id": "fgSUPlK_Mbk8"
      }
    },
    {
      "cell_type": "code",
      "source": [
        "## Get distribution of names by length\n",
        "\n",
        "hist(nchar(states), las = 1, col = \"gray40\")"
      ],
      "metadata": {
        "colab": {
          "base_uri": "https://localhost:8080/",
          "height": 436
        },
        "id": "ayOxdu0jMdly",
        "outputId": "df5333ae-2c11-424d-c7ec-7de9e921ae3f"
      },
      "execution_count": null,
      "outputs": [
        {
          "output_type": "display_data",
          "data": {
            "text/plain": [
              "Plot with title “Histogram of nchar(states)”"
            ],
            "image/png": "[encoded data removed]"
          },
          "metadata": {
            "image/png": {
              "width": 420,
              "height": 420
            }
          }
        }
      ]
    },
    {
      "cell_type": "code",
      "source": [
        "# distribution of the \"a\" vowel?\n",
        "# gregexpr - We can use regexpr() to get the number of times that a searched pattern is found in a character vector. \n",
        "\n",
        "positions_a <- gregexpr(pattern = \"a\", text = states, ignore.case = TRUE)\n",
        "#positions_a\n",
        "\n",
        "num_a <- sapply(positions_a, function(x) ifelse(x[1]>0, length(x), 0))\n",
        "\n",
        "num_a"
      ],
      "metadata": {
        "colab": {
          "base_uri": "https://localhost:8080/",
          "height": 34
        },
        "id": "NJDghLLOMdoV",
        "outputId": "483a8651-135e-49e9-8b0e-53594d28a75f"
      },
      "execution_count": null,
      "outputs": [
        {
          "output_type": "display_data",
          "data": {
            "text/html": [
              "<style>\n",
              ".list-inline {list-style: none; margin:0; padding: 0}\n",
              ".list-inline>li {display: inline-block}\n",
              ".list-inline>li:not(:last-child)::after {content: \"\\00b7\"; padding: 0 .5ex}\n",
              "</style>\n",
              "<ol class=list-inline><li>4</li><li>3</li><li>2</li><li>3</li><li>2</li><li>1</li><li>0</li><li>2</li><li>1</li><li>1</li><li>2</li><li>1</li><li>0</li><li>2</li><li>1</li><li>2</li><li>0</li><li>2</li><li>1</li><li>2</li><li>2</li><li>1</li><li>1</li><li>0</li><li>0</li><li>2</li><li>2</li><li>2</li><li>1</li><li>0</li><li>0</li><li>0</li><li>2</li><li>2</li><li>0</li><li>2</li><li>0</li><li>2</li><li>1</li><li>2</li><li>2</li><li>0</li><li>1</li><li>1</li><li>0</li><li>1</li><li>1</li><li>1</li><li>0</li><li>0</li></ol>\n"
            ],
            "text/markdown": "1. 4\n2. 3\n3. 2\n4. 3\n5. 2\n6. 1\n7. 0\n8. 2\n9. 1\n10. 1\n11. 2\n12. 1\n13. 0\n14. 2\n15. 1\n16. 2\n17. 0\n18. 2\n19. 1\n20. 2\n21. 2\n22. 1\n23. 1\n24. 0\n25. 0\n26. 2\n27. 2\n28. 2\n29. 1\n30. 0\n31. 0\n32. 0\n33. 2\n34. 2\n35. 0\n36. 2\n37. 0\n38. 2\n39. 1\n40. 2\n41. 2\n42. 0\n43. 1\n44. 1\n45. 0\n46. 1\n47. 1\n48. 1\n49. 0\n50. 0\n\n\n",
            "text/latex": "\\begin{enumerate*}\n\\item 4\n\\item 3\n\\item 2\n\\item 3\n\\item 2\n\\item 1\n\\item 0\n\\item 2\n\\item 1\n\\item 1\n\\item 2\n\\item 1\n\\item 0\n\\item 2\n\\item 1\n\\item 2\n\\item 0\n\\item 2\n\\item 1\n\\item 2\n\\item 2\n\\item 1\n\\item 1\n\\item 0\n\\item 0\n\\item 2\n\\item 2\n\\item 2\n\\item 1\n\\item 0\n\\item 0\n\\item 0\n\\item 2\n\\item 2\n\\item 0\n\\item 2\n\\item 0\n\\item 2\n\\item 1\n\\item 2\n\\item 2\n\\item 0\n\\item 1\n\\item 1\n\\item 0\n\\item 1\n\\item 1\n\\item 1\n\\item 0\n\\item 0\n\\end{enumerate*}\n",
            "text/plain": [
              " [1] 4 3 2 3 2 1 0 2 1 1 2 1 0 2 1 2 0 2 1 2 2 1 1 0 0 2 2 2 1 0 0 0 2 2 0 2 0 2\n",
              "[39] 1 2 2 0 1 1 0 1 1 1 0 0"
            ]
          },
          "metadata": {}
        }
      ]
    },
    {
      "cell_type": "markdown",
      "source": [
        "The same operation can be performed by using the function str_count() from the package \"stringr\".\n",
        "\n"
      ],
      "metadata": {
        "id": "B3muArkYNOPl"
      }
    },
    {
      "cell_type": "code",
      "source": [
        "str_count(states, \"a\")\n",
        "\n",
        "# str_count() does not contain the argument ignore.case\n",
        "\n"
      ],
      "metadata": {
        "colab": {
          "base_uri": "https://localhost:8080/",
          "height": 34
        },
        "id": "T_7YMZcRLuNd",
        "outputId": "efe7da1c-be96-4225-aa5b-cfca034d70b6"
      },
      "execution_count": null,
      "outputs": [
        {
          "output_type": "display_data",
          "data": {
            "text/html": [
              "<style>\n",
              ".list-inline {list-style: none; margin:0; padding: 0}\n",
              ".list-inline>li {display: inline-block}\n",
              ".list-inline>li:not(:last-child)::after {content: \"\\00b7\"; padding: 0 .5ex}\n",
              "</style>\n",
              "<ol class=list-inline><li>3</li><li>2</li><li>1</li><li>2</li><li>2</li><li>1</li><li>0</li><li>2</li><li>1</li><li>1</li><li>2</li><li>1</li><li>0</li><li>2</li><li>1</li><li>2</li><li>0</li><li>2</li><li>1</li><li>2</li><li>2</li><li>1</li><li>1</li><li>0</li><li>0</li><li>2</li><li>2</li><li>2</li><li>1</li><li>0</li><li>0</li><li>0</li><li>2</li><li>2</li><li>0</li><li>2</li><li>0</li><li>2</li><li>1</li><li>2</li><li>2</li><li>0</li><li>1</li><li>1</li><li>0</li><li>1</li><li>1</li><li>1</li><li>0</li><li>0</li></ol>\n"
            ],
            "text/markdown": "1. 3\n2. 2\n3. 1\n4. 2\n5. 2\n6. 1\n7. 0\n8. 2\n9. 1\n10. 1\n11. 2\n12. 1\n13. 0\n14. 2\n15. 1\n16. 2\n17. 0\n18. 2\n19. 1\n20. 2\n21. 2\n22. 1\n23. 1\n24. 0\n25. 0\n26. 2\n27. 2\n28. 2\n29. 1\n30. 0\n31. 0\n32. 0\n33. 2\n34. 2\n35. 0\n36. 2\n37. 0\n38. 2\n39. 1\n40. 2\n41. 2\n42. 0\n43. 1\n44. 1\n45. 0\n46. 1\n47. 1\n48. 1\n49. 0\n50. 0\n\n\n",
            "text/latex": "\\begin{enumerate*}\n\\item 3\n\\item 2\n\\item 1\n\\item 2\n\\item 2\n\\item 1\n\\item 0\n\\item 2\n\\item 1\n\\item 1\n\\item 2\n\\item 1\n\\item 0\n\\item 2\n\\item 1\n\\item 2\n\\item 0\n\\item 2\n\\item 1\n\\item 2\n\\item 2\n\\item 1\n\\item 1\n\\item 0\n\\item 0\n\\item 2\n\\item 2\n\\item 2\n\\item 1\n\\item 0\n\\item 0\n\\item 0\n\\item 2\n\\item 2\n\\item 0\n\\item 2\n\\item 0\n\\item 2\n\\item 1\n\\item 2\n\\item 2\n\\item 0\n\\item 1\n\\item 1\n\\item 0\n\\item 1\n\\item 1\n\\item 1\n\\item 0\n\\item 0\n\\end{enumerate*}\n",
            "text/plain": [
              " [1] 3 2 1 2 2 1 0 2 1 1 2 1 0 2 1 2 0 2 1 2 2 1 1 0 0 2 2 2 1 0 0 0 2 2 0 2 0 2\n",
              "[39] 1 2 2 0 1 1 0 1 1 1 0 0"
            ]
          },
          "metadata": {}
        }
      ]
    },
    {
      "cell_type": "code",
      "source": [
        "# total number of a's\n",
        "str_count(tolower(states), \"a\")"
      ],
      "metadata": {
        "colab": {
          "base_uri": "https://localhost:8080/",
          "height": 34
        },
        "id": "qpmjQRFjLuK9",
        "outputId": "a951c41a-8830-4e1e-8ee4-4599a639792b"
      },
      "execution_count": null,
      "outputs": [
        {
          "output_type": "display_data",
          "data": {
            "text/html": [
              "<style>\n",
              ".list-inline {list-style: none; margin:0; padding: 0}\n",
              ".list-inline>li {display: inline-block}\n",
              ".list-inline>li:not(:last-child)::after {content: \"\\00b7\"; padding: 0 .5ex}\n",
              "</style>\n",
              "<ol class=list-inline><li>4</li><li>3</li><li>2</li><li>3</li><li>2</li><li>1</li><li>0</li><li>2</li><li>1</li><li>1</li><li>2</li><li>1</li><li>0</li><li>2</li><li>1</li><li>2</li><li>0</li><li>2</li><li>1</li><li>2</li><li>2</li><li>1</li><li>1</li><li>0</li><li>0</li><li>2</li><li>2</li><li>2</li><li>1</li><li>0</li><li>0</li><li>0</li><li>2</li><li>2</li><li>0</li><li>2</li><li>0</li><li>2</li><li>1</li><li>2</li><li>2</li><li>0</li><li>1</li><li>1</li><li>0</li><li>1</li><li>1</li><li>1</li><li>0</li><li>0</li></ol>\n"
            ],
            "text/markdown": "1. 4\n2. 3\n3. 2\n4. 3\n5. 2\n6. 1\n7. 0\n8. 2\n9. 1\n10. 1\n11. 2\n12. 1\n13. 0\n14. 2\n15. 1\n16. 2\n17. 0\n18. 2\n19. 1\n20. 2\n21. 2\n22. 1\n23. 1\n24. 0\n25. 0\n26. 2\n27. 2\n28. 2\n29. 1\n30. 0\n31. 0\n32. 0\n33. 2\n34. 2\n35. 0\n36. 2\n37. 0\n38. 2\n39. 1\n40. 2\n41. 2\n42. 0\n43. 1\n44. 1\n45. 0\n46. 1\n47. 1\n48. 1\n49. 0\n50. 0\n\n\n",
            "text/latex": "\\begin{enumerate*}\n\\item 4\n\\item 3\n\\item 2\n\\item 3\n\\item 2\n\\item 1\n\\item 0\n\\item 2\n\\item 1\n\\item 1\n\\item 2\n\\item 1\n\\item 0\n\\item 2\n\\item 1\n\\item 2\n\\item 0\n\\item 2\n\\item 1\n\\item 2\n\\item 2\n\\item 1\n\\item 1\n\\item 0\n\\item 0\n\\item 2\n\\item 2\n\\item 2\n\\item 1\n\\item 0\n\\item 0\n\\item 0\n\\item 2\n\\item 2\n\\item 0\n\\item 2\n\\item 0\n\\item 2\n\\item 1\n\\item 2\n\\item 2\n\\item 0\n\\item 1\n\\item 1\n\\item 0\n\\item 1\n\\item 1\n\\item 1\n\\item 0\n\\item 0\n\\end{enumerate*}\n",
            "text/plain": [
              " [1] 4 3 2 3 2 1 0 2 1 1 2 1 0 2 1 2 0 2 1 2 2 1 1 0 0 2 2 2 1 0 0 0 2 2 0 2 0 2\n",
              "[39] 1 2 2 0 1 1 0 1 1 1 0 0"
            ]
          },
          "metadata": {}
        }
      ]
    },
    {
      "cell_type": "markdown",
      "source": [
        "Check a number of patterns"
      ],
      "metadata": {
        "id": "Y6h9a9v6LDeF"
      }
    },
    {
      "cell_type": "code",
      "source": [
        "vowels <- c(\"a\", \"e\", \"i\", \"o\", \"u\")\n",
        "\n",
        "# vector for counting\n",
        "num_vowels <- vector(mode = \"integer\", length = 5)\n",
        "\n",
        "for (j in seq_along(vowels)) {\n",
        "  num_aux <- str_count(tolower(states), vowels[j])\n",
        "  num_vowels[j] <- sum(num_aux)\n",
        "}"
      ],
      "metadata": {
        "id": "0iUVcT7SNn5u"
      },
      "execution_count": null,
      "outputs": []
    },
    {
      "cell_type": "code",
      "source": [
        "# sort them in decreasing order\n",
        "names(num_vowels) <- vowels\n",
        "sort(num_vowels, decreasing = TRUE)"
      ],
      "metadata": {
        "colab": {
          "base_uri": "https://localhost:8080/",
          "height": 34
        },
        "id": "IW3RLQ2uNn3t",
        "outputId": "13cf984b-b32d-4364-9131-26f136664ff3"
      },
      "execution_count": null,
      "outputs": [
        {
          "output_type": "display_data",
          "data": {
            "text/html": [
              "<style>\n",
              ".dl-inline {width: auto; margin:0; padding: 0}\n",
              ".dl-inline>dt, .dl-inline>dd {float: none; width: auto; display: inline-block}\n",
              ".dl-inline>dt::after {content: \":\\0020\"; padding-right: .5ex}\n",
              ".dl-inline>dt:not(:first-of-type) {padding-left: .5ex}\n",
              "</style><dl class=dl-inline><dt>a</dt><dd>61</dd><dt>i</dt><dd>44</dd><dt>o</dt><dd>36</dd><dt>e</dt><dd>28</dd><dt>u</dt><dd>8</dd></dl>\n"
            ],
            "text/markdown": "a\n:   61i\n:   44o\n:   36e\n:   28u\n:   8\n\n",
            "text/latex": "\\begin{description*}\n\\item[a] 61\n\\item[i] 44\n\\item[o] 36\n\\item[e] 28\n\\item[u] 8\n\\end{description*}\n",
            "text/plain": [
              " a  i  o  e  u \n",
              "61 44 36 28  8 "
            ]
          },
          "metadata": {}
        }
      ]
    },
    {
      "cell_type": "code",
      "source": [
        "# barplot\n",
        "barplot(num_vowels, main = \"Number of vowels in USA States names\", \n",
        "        border = NA, xlim = c(0, 80), las = 1, horiz = TRUE)"
      ],
      "metadata": {
        "colab": {
          "base_uri": "https://localhost:8080/",
          "height": 436
        },
        "id": "UqnGYa2ONn1c",
        "outputId": "79044e87-6170-4aa0-fa7e-73dd592cb158"
      },
      "execution_count": null,
      "outputs": [
        {
          "output_type": "display_data",
          "data": {
            "text/plain": [
              "Plot with title “Number of vowels in USA States names”"
            ],
            "image/png": "[encoded data removed]"
          },
          "metadata": {
            "image/png": {
              "width": 420,
              "height": 420
            }
          }
        }
      ]
    },
    {
      "cell_type": "markdown",
      "source": [
        "## 2. Character Strings in R"
      ],
      "metadata": {
        "id": "gFLm0_61MwxW"
      }
    },
    {
      "cell_type": "code",
      "source": [
        "\"The \\\"R\\\" project for statistical computing\""
      ],
      "metadata": {
        "colab": {
          "base_uri": "https://localhost:8080/",
          "height": 34
        },
        "id": "ylve8wZZMvv7",
        "outputId": "7a86be6b-4894-48b0-b91b-adbfa96c04ae"
      },
      "execution_count": 2,
      "outputs": [
        {
          "output_type": "display_data",
          "data": {
            "text/html": [
              "'The \"R\" project for statistical computing'"
            ],
            "text/markdown": "'The \"R\" project for statistical computing'",
            "text/latex": "'The \"R\" project for statistical computing'",
            "text/plain": [
              "[1] \"The \\\"R\\\" project for statistical computing\""
            ]
          },
          "metadata": {}
        }
      ]
    },
    {
      "cell_type": "markdown",
      "source": [
        "**It is important not to confuse the empty character vector character(0) with the empty string \"\"; one of the main differences between them is that they have different lengths:**"
      ],
      "metadata": {
        "id": "rhWRW9e7NXXa"
      }
    },
    {
      "cell_type": "code",
      "source": [
        "empty_str <- \"\"\n",
        "\n",
        "empty_chr <- character(0)"
      ],
      "metadata": {
        "id": "WdisLQUpNnzQ"
      },
      "execution_count": 3,
      "outputs": []
    },
    {
      "cell_type": "code",
      "source": [
        "# length of empty string\n",
        "length(empty_str)\n",
        "#> [1] 1\n",
        "\n",
        "# length of empty character vector\n",
        "length(empty_chr)\n",
        "#> [1] 0"
      ],
      "metadata": {
        "id": "XvpfbFlgNnw4",
        "colab": {
          "base_uri": "https://localhost:8080/",
          "height": 52
        },
        "outputId": "ab080cad-b381-450c-db5a-07dabd0aef4d"
      },
      "execution_count": 4,
      "outputs": [
        {
          "output_type": "display_data",
          "data": {
            "text/html": [
              "1"
            ],
            "text/markdown": "1",
            "text/latex": "1",
            "text/plain": [
              "[1] 1"
            ]
          },
          "metadata": {}
        },
        {
          "output_type": "display_data",
          "data": {
            "text/html": [
              "0"
            ],
            "text/markdown": "0",
            "text/latex": "0",
            "text/plain": [
              "[1] 0"
            ]
          },
          "metadata": {}
        }
      ]
    },
    {
      "cell_type": "markdown",
      "source": [
        "Basically empty string has an empty input \"\" (so length = 1)\n"
      ],
      "metadata": {
        "id": "B3S1x01nNiXJ"
      }
    },
    {
      "cell_type": "markdown",
      "source": [
        "R: data types: vector, factor, matrix (and array), data.frame, and list.\n",
        "\n",
        "1.  R has six types of **vectors**, technically referred to as atomic types or atomic vectors: **logical, integer, double, character, complex, and raw**.\n",
        "\n",
        "2. Data frames. With data frames, things are a bit different. By default, character strings inside a data frame will be converted to factors:\n",
        "3. To turn-off the data.frame()’s default behavior of converting strings into factors, use the argument stringsAsFactors = FALSE:"
      ],
      "metadata": {
        "id": "QdGcpYWrN2RZ"
      }
    },
    {
      "cell_type": "markdown",
      "source": [
        "When you combine different data types in a vector, strings will dominate"
      ],
      "metadata": {
        "id": "44OrJC3bOImh"
      }
    },
    {
      "cell_type": "code",
      "source": [
        "paste(\"X\", 1:5, sep = \".\")"
      ],
      "metadata": {
        "id": "TUN5Ijm3Nnuc",
        "colab": {
          "base_uri": "https://localhost:8080/",
          "height": 34
        },
        "outputId": "9abc4445-d40e-4816-8ab6-7c5d4c3d47f4"
      },
      "execution_count": 5,
      "outputs": [
        {
          "output_type": "display_data",
          "data": {
            "text/html": [
              "<style>\n",
              ".list-inline {list-style: none; margin:0; padding: 0}\n",
              ".list-inline>li {display: inline-block}\n",
              ".list-inline>li:not(:last-child)::after {content: \"\\00b7\"; padding: 0 .5ex}\n",
              "</style>\n",
              "<ol class=list-inline><li>'X.1'</li><li>'X.2'</li><li>'X.3'</li><li>'X.4'</li><li>'X.5'</li></ol>\n"
            ],
            "text/markdown": "1. 'X.1'\n2. 'X.2'\n3. 'X.3'\n4. 'X.4'\n5. 'X.5'\n\n\n",
            "text/latex": "\\begin{enumerate*}\n\\item 'X.1'\n\\item 'X.2'\n\\item 'X.3'\n\\item 'X.4'\n\\item 'X.5'\n\\end{enumerate*}\n",
            "text/plain": [
              "[1] \"X.1\" \"X.2\" \"X.3\" \"X.4\" \"X.5\""
            ]
          },
          "metadata": {}
        }
      ]
    },
    {
      "cell_type": "code",
      "source": [
        "# paste with collapsing\n",
        "paste(1:3, c(\"!\",\"?\",\"+\"), sep = '', collapse = \"\")\n",
        "#> [1] \"1!2?3+\"\n",
        "\n",
        "# paste without collapsing\n",
        "paste(1:3, c(\"!\",\"?\",\"+\"), sep = '')\n",
        "#> [1] \"1!\" \"2?\" \"3+\""
      ],
      "metadata": {
        "colab": {
          "base_uri": "https://localhost:8080/",
          "height": 52
        },
        "id": "AT97h3DNOwEC",
        "outputId": "8be17e68-f16f-454d-fa1f-e87252e16478"
      },
      "execution_count": 6,
      "outputs": [
        {
          "output_type": "display_data",
          "data": {
            "text/html": [
              "'1!2?3+'"
            ],
            "text/markdown": "'1!2?3+'",
            "text/latex": "'1!2?3+'",
            "text/plain": [
              "[1] \"1!2?3+\""
            ]
          },
          "metadata": {}
        },
        {
          "output_type": "display_data",
          "data": {
            "text/html": [
              "<style>\n",
              ".list-inline {list-style: none; margin:0; padding: 0}\n",
              ".list-inline>li {display: inline-block}\n",
              ".list-inline>li:not(:last-child)::after {content: \"\\00b7\"; padding: 0 .5ex}\n",
              "</style>\n",
              "<ol class=list-inline><li>'1!'</li><li>'2?'</li><li>'3+'</li></ol>\n"
            ],
            "text/markdown": "1. '1!'\n2. '2?'\n3. '3+'\n\n\n",
            "text/latex": "\\begin{enumerate*}\n\\item '1!'\n\\item '2?'\n\\item '3+'\n\\end{enumerate*}\n",
            "text/plain": [
              "[1] \"1!\" \"2?\" \"3+\""
            ]
          },
          "metadata": {}
        }
      ]
    },
    {
      "cell_type": "code",
      "source": [
        "# read 'ktop100.txt' file\n",
        "top105 <- readLines(\"http://www.textfiles.com/music/ktop100.txt\")"
      ],
      "metadata": {
        "id": "FQvAC55MOwBx"
      },
      "execution_count": null,
      "outputs": []
    },
    {
      "cell_type": "markdown",
      "source": [
        "###"
      ],
      "metadata": {
        "id": "UCU-56-6QDMo"
      }
    },
    {
      "cell_type": "code",
      "source": [
        "# replace 'a' by 'A'\n",
        "chartr(\"a\", \"A\", \"This is a boring string\")\n",
        "#> [1] \"This is A boring string\""
      ],
      "metadata": {
        "colab": {
          "base_uri": "https://localhost:8080/",
          "height": 34
        },
        "id": "6Q7Yxe_NOv_S",
        "outputId": "1733519b-413a-431a-9578-f1aa445bba15"
      },
      "execution_count": 8,
      "outputs": [
        {
          "output_type": "display_data",
          "data": {
            "text/html": [
              "'This is A boring string'"
            ],
            "text/markdown": "'This is A boring string'",
            "text/latex": "'This is A boring string'",
            "text/plain": [
              "[1] \"This is A boring string\""
            ]
          },
          "metadata": {}
        }
      ]
    },
    {
      "cell_type": "code",
      "source": [
        "# multiple replacements\n",
        "crazy <- c(\"Here's to the crazy ones\", \"The misfits\", \"The rebels\")\n",
        "chartr(\"aei\", \"#!?\", crazy)"
      ],
      "metadata": {
        "colab": {
          "base_uri": "https://localhost:8080/",
          "height": 34
        },
        "id": "mWdHq8fWOv6q",
        "outputId": "4fa0cf6d-645f-4d8d-bf9f-ff32c3a74af1"
      },
      "execution_count": 9,
      "outputs": [
        {
          "output_type": "display_data",
          "data": {
            "text/html": [
              "<style>\n",
              ".list-inline {list-style: none; margin:0; padding: 0}\n",
              ".list-inline>li {display: inline-block}\n",
              ".list-inline>li:not(:last-child)::after {content: \"\\00b7\"; padding: 0 .5ex}\n",
              "</style>\n",
              "<ol class=list-inline><li>'H!r!\\'s to th! cr#zy on!s'</li><li>'Th! m?sf?ts'</li><li>'Th! r!b!ls'</li></ol>\n"
            ],
            "text/markdown": "1. 'H!r!\\'s to th! cr#zy on!s'\n2. 'Th! m?sf?ts'\n3. 'Th! r!b!ls'\n\n\n",
            "text/latex": "\\begin{enumerate*}\n\\item 'H!r!\\textbackslash{}'s to th! cr\\#zy on!s'\n\\item 'Th! m?sf?ts'\n\\item 'Th! r!b!ls'\n\\end{enumerate*}\n",
            "text/plain": [
              "[1] \"H!r!'s to th! cr#zy on!s\" \"Th! m?sf?ts\"             \n",
              "[3] \"Th! r!b!ls\"              "
            ]
          },
          "metadata": {}
        }
      ]
    },
    {
      "cell_type": "markdown",
      "source": [
        "## 3.3 Set operations"
      ],
      "metadata": {
        "id": "5oJnYdZqUIUv"
      }
    },
    {
      "cell_type": "code",
      "source": [
        "\n",
        "set5 <- c(\"some\", \"random\", \"few\", \"words\")\n",
        "set6 <- c(\"some\", \"many\", \"none\", \"few\")\n",
        "\n",
        "# difference between set5 and set6\n",
        "setdiff(set5, set6)"
      ],
      "metadata": {
        "colab": {
          "base_uri": "https://localhost:8080/",
          "height": 34
        },
        "id": "3SB-mGjBOv36",
        "outputId": "8eb6d35b-f2bf-47ca-8e87-41cc327ef76e"
      },
      "execution_count": 16,
      "outputs": [
        {
          "output_type": "display_data",
          "data": {
            "text/html": [
              "<style>\n",
              ".list-inline {list-style: none; margin:0; padding: 0}\n",
              ".list-inline>li {display: inline-block}\n",
              ".list-inline>li:not(:last-child)::after {content: \"\\00b7\"; padding: 0 .5ex}\n",
              "</style>\n",
              "<ol class=list-inline><li>'random'</li><li>'words'</li></ol>\n"
            ],
            "text/markdown": "1. 'random'\n2. 'words'\n\n\n",
            "text/latex": "\\begin{enumerate*}\n\\item 'random'\n\\item 'words'\n\\end{enumerate*}\n",
            "text/plain": [
              "[1] \"random\" \"words\" "
            ]
          },
          "metadata": {}
        }
      ]
    },
    {
      "cell_type": "code",
      "source": [
        "# set7 == set8?\n",
        "setequal(set5, set6)"
      ],
      "metadata": {
        "colab": {
          "base_uri": "https://localhost:8080/",
          "height": 34
        },
        "id": "xoMV_qnYOv1R",
        "outputId": "365ffb2d-4136-455b-d10d-6d4aec86ba25"
      },
      "execution_count": 12,
      "outputs": [
        {
          "output_type": "display_data",
          "data": {
            "text/html": [
              "FALSE"
            ],
            "text/markdown": "FALSE",
            "text/latex": "FALSE",
            "text/plain": [
              "[1] FALSE"
            ]
          },
          "metadata": {}
        }
      ]
    },
    {
      "cell_type": "code",
      "source": [
        "identical(set5, set6)"
      ],
      "metadata": {
        "colab": {
          "base_uri": "https://localhost:8080/",
          "height": 34
        },
        "id": "4CBAdq5EOvyw",
        "outputId": "0e3664e8-96a5-47e4-a3ec-427a55f13889"
      },
      "execution_count": 13,
      "outputs": [
        {
          "output_type": "display_data",
          "data": {
            "text/html": [
              "FALSE"
            ],
            "text/markdown": "FALSE",
            "text/latex": "FALSE",
            "text/plain": [
              "[1] FALSE"
            ]
          },
          "metadata": {}
        }
      ]
    },
    {
      "cell_type": "code",
      "source": [
        "# three vectors\n",
        "set10 <- c(\"some\", \"stuff\", \"to\", \"play\", \"with\")\n",
        "elem1 <- \"play\"\n",
        "elem2 <- \"crazy\"\n",
        "\n",
        "# elem1 in set10?\n",
        "is.element(elem1, set10)"
      ],
      "metadata": {
        "colab": {
          "base_uri": "https://localhost:8080/",
          "height": 34
        },
        "id": "KBT89AwNOvwR",
        "outputId": "8cb983ea-715b-4b4a-e759-e21886ef5daf"
      },
      "execution_count": 14,
      "outputs": [
        {
          "output_type": "display_data",
          "data": {
            "text/html": [
              "TRUE"
            ],
            "text/markdown": "TRUE",
            "text/latex": "TRUE",
            "text/plain": [
              "[1] TRUE"
            ]
          },
          "metadata": {}
        }
      ]
    },
    {
      "cell_type": "code",
      "source": [
        "paste(rep(\"x\", 4), collapse = \" \")"
      ],
      "metadata": {
        "colab": {
          "base_uri": "https://localhost:8080/",
          "height": 34
        },
        "id": "ak-Wo1RwWtWh",
        "outputId": "abead6fc-646c-484b-ca05-11ce483f8aa7"
      },
      "execution_count": 15,
      "outputs": [
        {
          "output_type": "display_data",
          "data": {
            "text/html": [
              "'x x x x'"
            ],
            "text/markdown": "'x x x x'",
            "text/latex": "'x x x x'",
            "text/plain": [
              "[1] \"x x x x\""
            ]
          },
          "metadata": {}
        }
      ]
    },
    {
      "cell_type": "markdown",
      "source": [
        "## StringR"
      ],
      "metadata": {
        "id": "RnstkrDcZ1q-"
      }
    },
    {
      "cell_type": "code",
      "source": [
        "# default usage\n",
        "str_c(\"May\", \"The\", \"Force\", \"Be\", \"With\", \"You\")\n",
        "\n",
        "# zero length arguments like NULL and character(0) are silently removed by str_c()."
      ],
      "metadata": {
        "colab": {
          "base_uri": "https://localhost:8080/",
          "height": 34
        },
        "id": "t93AvMXCZ5Et",
        "outputId": "c406023a-e46e-41a9-a9cc-a7d155d06c74"
      },
      "execution_count": 17,
      "outputs": [
        {
          "output_type": "display_data",
          "data": {
            "text/html": [
              "'MayTheForceBeWithYou'"
            ],
            "text/markdown": "'MayTheForceBeWithYou'",
            "text/latex": "'MayTheForceBeWithYou'",
            "text/plain": [
              "[1] \"MayTheForceBeWithYou\""
            ]
          },
          "metadata": {}
        }
      ]
    },
    {
      "cell_type": "code",
      "source": [
        "# synonym function 'str_glue'\n",
        "str_glue(\"May\", \"The\", \"Force\", \"Be\", \"With\", \"You\", .sep = \"_\")"
      ],
      "metadata": {
        "colab": {
          "base_uri": "https://localhost:8080/",
          "height": 34
        },
        "id": "oxDlTvLKZ52B",
        "outputId": "4f67f1cf-28a0-43bd-bb07-5085abcd83fe"
      },
      "execution_count": 18,
      "outputs": [
        {
          "output_type": "display_data",
          "data": {
            "text/html": [
              "'May_The_Force_Be_With_You'"
            ],
            "text/markdown": "'May_The_Force_Be_With_You'",
            "text/latex": "'May\\_The\\_Force\\_Be\\_With\\_You'",
            "text/plain": [
              "May_The_Force_Be_With_You"
            ]
          },
          "metadata": {}
        }
      ]
    },
    {
      "cell_type": "code",
      "source": [
        "# some text (NA included)\n",
        "some_text <- c(\"one\", \"two\", \"three\", NA, \"five\")\n",
        "\n",
        "# compare 'str_length' with 'nchar'\n",
        "nchar(some_text)\n",
        "#> [1]  3  3  5 NA  4\n",
        "str_length(some_text)\n",
        "#> [1]  3  3  5 NA  4"
      ],
      "metadata": {
        "colab": {
          "base_uri": "https://localhost:8080/",
          "height": 52
        },
        "id": "2TdkkI38Z5zC",
        "outputId": "3e3810dc-4807-4786-c7c9-04fd0ce81472"
      },
      "execution_count": 19,
      "outputs": [
        {
          "output_type": "display_data",
          "data": {
            "text/html": [
              "<style>\n",
              ".list-inline {list-style: none; margin:0; padding: 0}\n",
              ".list-inline>li {display: inline-block}\n",
              ".list-inline>li:not(:last-child)::after {content: \"\\00b7\"; padding: 0 .5ex}\n",
              "</style>\n",
              "<ol class=list-inline><li>3</li><li>3</li><li>5</li><li>&lt;NA&gt;</li><li>4</li></ol>\n"
            ],
            "text/markdown": "1. 3\n2. 3\n3. 5\n4. &lt;NA&gt;\n5. 4\n\n\n",
            "text/latex": "\\begin{enumerate*}\n\\item 3\n\\item 3\n\\item 5\n\\item <NA>\n\\item 4\n\\end{enumerate*}\n",
            "text/plain": [
              "[1]  3  3  5 NA  4"
            ]
          },
          "metadata": {}
        },
        {
          "output_type": "display_data",
          "data": {
            "text/html": [
              "<style>\n",
              ".list-inline {list-style: none; margin:0; padding: 0}\n",
              ".list-inline>li {display: inline-block}\n",
              ".list-inline>li:not(:last-child)::after {content: \"\\00b7\"; padding: 0 .5ex}\n",
              "</style>\n",
              "<ol class=list-inline><li>3</li><li>3</li><li>5</li><li>&lt;NA&gt;</li><li>4</li></ol>\n"
            ],
            "text/markdown": "1. 3\n2. 3\n3. 5\n4. &lt;NA&gt;\n5. 4\n\n\n",
            "text/latex": "\\begin{enumerate*}\n\\item 3\n\\item 3\n\\item 5\n\\item <NA>\n\\item 4\n\\end{enumerate*}\n",
            "text/plain": [
              "[1]  3  3  5 NA  4"
            ]
          },
          "metadata": {}
        }
      ]
    },
    {
      "cell_type": "markdown",
      "source": [
        "n addition, str_length() has the nice feature that it converts factors to characters, something that nchar() is not able to handle:"
      ],
      "metadata": {
        "id": "Q_kwiGQyc5Vz"
      }
    },
    {
      "cell_type": "markdown",
      "source": [
        "\n",
        "\n",
        "```\n",
        "str_sub(string, start = 1L, end = -1L)\n",
        "```\n",
        "\n"
      ],
      "metadata": {
        "id": "wUT3F0T_dSY8"
      }
    },
    {
      "cell_type": "code",
      "source": [
        "lorem <- \"Lorem Ipsum\"\n",
        "\n",
        "# apply 'str_sub'\n",
        "str_sub(lorem, start = 1, end = 3)\n"
      ],
      "metadata": {
        "colab": {
          "base_uri": "https://localhost:8080/",
          "height": 34
        },
        "id": "7xVUVrqKZ5wL",
        "outputId": "815815cc-099f-4341-fc8b-7d203cff5355"
      },
      "execution_count": 20,
      "outputs": [
        {
          "output_type": "display_data",
          "data": {
            "text/html": [
              "'Lor'"
            ],
            "text/markdown": "'Lor'",
            "text/latex": "'Lor'",
            "text/plain": [
              "[1] \"Lor\""
            ]
          },
          "metadata": {}
        }
      ]
    },
    {
      "cell_type": "code",
      "source": [
        "# extracting sequentially\n",
        "str_sub(lorem, seq_len(nchar(lorem)))"
      ],
      "metadata": {
        "colab": {
          "base_uri": "https://localhost:8080/",
          "height": 34
        },
        "id": "RLPsTyemZ5sc",
        "outputId": "d227a208-164e-48db-e76d-bb589041de65"
      },
      "execution_count": 21,
      "outputs": [
        {
          "output_type": "display_data",
          "data": {
            "text/html": [
              "<style>\n",
              ".list-inline {list-style: none; margin:0; padding: 0}\n",
              ".list-inline>li {display: inline-block}\n",
              ".list-inline>li:not(:last-child)::after {content: \"\\00b7\"; padding: 0 .5ex}\n",
              "</style>\n",
              "<ol class=list-inline><li>'Lorem Ipsum'</li><li>'orem Ipsum'</li><li>'rem Ipsum'</li><li>'em Ipsum'</li><li>'m Ipsum'</li><li>' Ipsum'</li><li>'Ipsum'</li><li>'psum'</li><li>'sum'</li><li>'um'</li><li>'m'</li></ol>\n"
            ],
            "text/markdown": "1. 'Lorem Ipsum'\n2. 'orem Ipsum'\n3. 'rem Ipsum'\n4. 'em Ipsum'\n5. 'm Ipsum'\n6. ' Ipsum'\n7. 'Ipsum'\n8. 'psum'\n9. 'sum'\n10. 'um'\n11. 'm'\n\n\n",
            "text/latex": "\\begin{enumerate*}\n\\item 'Lorem Ipsum'\n\\item 'orem Ipsum'\n\\item 'rem Ipsum'\n\\item 'em Ipsum'\n\\item 'm Ipsum'\n\\item ' Ipsum'\n\\item 'Ipsum'\n\\item 'psum'\n\\item 'sum'\n\\item 'um'\n\\item 'm'\n\\end{enumerate*}\n",
            "text/plain": [
              " [1] \"Lorem Ipsum\" \"orem Ipsum\"  \"rem Ipsum\"   \"em Ipsum\"    \"m Ipsum\"    \n",
              " [6] \" Ipsum\"      \"Ipsum\"       \"psum\"        \"sum\"         \"um\"         \n",
              "[11] \"m\"          "
            ]
          },
          "metadata": {}
        }
      ]
    },
    {
      "cell_type": "code",
      "source": [
        "# reverse substrings with negative positions\n",
        "str_sub(lorem, -seq_len(nchar(lorem)))"
      ],
      "metadata": {
        "colab": {
          "base_uri": "https://localhost:8080/",
          "height": 34
        },
        "id": "ezFHhFWmZ5pc",
        "outputId": "0f330f94-bc7a-4b70-ec5c-3d4a4f32da8d"
      },
      "execution_count": 22,
      "outputs": [
        {
          "output_type": "display_data",
          "data": {
            "text/html": [
              "<style>\n",
              ".list-inline {list-style: none; margin:0; padding: 0}\n",
              ".list-inline>li {display: inline-block}\n",
              ".list-inline>li:not(:last-child)::after {content: \"\\00b7\"; padding: 0 .5ex}\n",
              "</style>\n",
              "<ol class=list-inline><li>'m'</li><li>'um'</li><li>'sum'</li><li>'psum'</li><li>'Ipsum'</li><li>' Ipsum'</li><li>'m Ipsum'</li><li>'em Ipsum'</li><li>'rem Ipsum'</li><li>'orem Ipsum'</li><li>'Lorem Ipsum'</li></ol>\n"
            ],
            "text/markdown": "1. 'm'\n2. 'um'\n3. 'sum'\n4. 'psum'\n5. 'Ipsum'\n6. ' Ipsum'\n7. 'm Ipsum'\n8. 'em Ipsum'\n9. 'rem Ipsum'\n10. 'orem Ipsum'\n11. 'Lorem Ipsum'\n\n\n",
            "text/latex": "\\begin{enumerate*}\n\\item 'm'\n\\item 'um'\n\\item 'sum'\n\\item 'psum'\n\\item 'Ipsum'\n\\item ' Ipsum'\n\\item 'm Ipsum'\n\\item 'em Ipsum'\n\\item 'rem Ipsum'\n\\item 'orem Ipsum'\n\\item 'Lorem Ipsum'\n\\end{enumerate*}\n",
            "text/plain": [
              " [1] \"m\"           \"um\"          \"sum\"         \"psum\"        \"Ipsum\"      \n",
              " [6] \" Ipsum\"      \"m Ipsum\"     \"em Ipsum\"    \"rem Ipsum\"   \"orem Ipsum\" \n",
              "[11] \"Lorem Ipsum\""
            ]
          },
          "metadata": {}
        }
      ]
    },
    {
      "cell_type": "markdown",
      "source": [
        "### 4.3.6 - str_pad() add symbols from the left and right"
      ],
      "metadata": {
        "id": "12MNNZKAkrbN"
      }
    },
    {
      "cell_type": "code",
      "source": [
        "str_pad(\"hola\", width = 8)"
      ],
      "metadata": {
        "colab": {
          "base_uri": "https://localhost:8080/",
          "height": 34
        },
        "id": "rH5N65PNZ5l2",
        "outputId": "d01d89cf-e81f-4e53-ae9d-9599b05dba49"
      },
      "execution_count": 23,
      "outputs": [
        {
          "output_type": "display_data",
          "data": {
            "text/html": [
              "<span style=white-space:pre-wrap>'    hola'</span>"
            ],
            "text/markdown": "<span style=white-space:pre-wrap>'    hola'</span>",
            "text/latex": "'    hola'",
            "text/plain": [
              "[1] \"    hola\""
            ]
          },
          "metadata": {}
        }
      ]
    },
    {
      "cell_type": "code",
      "source": [
        "# display paragraph with following lines indentation of 3\n",
        "some_quote <- c(\n",
        "  \"I may not have gone\",\n",
        "  \"where I intended to go,\", \n",
        "  \"but I think I have ended up\",\n",
        "  \"where I needed to be\")\n",
        "\n",
        "cat(str_wrap(some_quote, width = 30, exdent = 3), \"\\n\")"
      ],
      "metadata": {
        "colab": {
          "base_uri": "https://localhost:8080/"
        },
        "id": "wkHRIikNZ5iN",
        "outputId": "d60d6dc0-fcd2-475a-a3fa-571b5e33923f"
      },
      "execution_count": 26,
      "outputs": [
        {
          "output_type": "stream",
          "name": "stdout",
          "text": [
            "I may not have gone where I intended to go, but I think I have ended up where I needed to be \n"
          ]
        }
      ]
    },
    {
      "cell_type": "markdown",
      "source": [
        "### Trim whitespaces with str_trim(string, side = \"both)"
      ],
      "metadata": {
        "id": "TmncBN42k9lL"
      }
    },
    {
      "cell_type": "code",
      "source": [
        "# text with whitespaces\n",
        "bad_text <- c(\"This\", \" example \", \"has several   \", \"   whitespaces \")\n",
        "\n",
        "# remove whitespaces on the left side\n",
        "str_trim(bad_text, side = \"left\")\n",
        "#> [1] \"This\"           \"example \"       \"has several   \" \"whitespaces \""
      ],
      "metadata": {
        "colab": {
          "base_uri": "https://localhost:8080/",
          "height": 34
        },
        "id": "AbSEjeGmZ5fH",
        "outputId": "ae05b6d6-8b4b-4490-b23c-063d8ec98dca"
      },
      "execution_count": 27,
      "outputs": [
        {
          "output_type": "display_data",
          "data": {
            "text/html": [
              "<style>\n",
              ".list-inline {list-style: none; margin:0; padding: 0}\n",
              ".list-inline>li {display: inline-block}\n",
              ".list-inline>li:not(:last-child)::after {content: \"\\00b7\"; padding: 0 .5ex}\n",
              "</style>\n",
              "<ol class=list-inline><li>'This'</li><li>'example '</li><li><span style=white-space:pre-wrap>'has several   '</span></li><li>'whitespaces '</li></ol>\n"
            ],
            "text/markdown": "1. 'This'\n2. 'example '\n3. <span style=white-space:pre-wrap>'has several   '</span>\n4. 'whitespaces '\n\n\n",
            "text/latex": "\\begin{enumerate*}\n\\item 'This'\n\\item 'example '\n\\item 'has several   '\n\\item 'whitespaces '\n\\end{enumerate*}\n",
            "text/plain": [
              "[1] \"This\"           \"example \"       \"has several   \" \"whitespaces \"  "
            ]
          },
          "metadata": {}
        }
      ]
    },
    {
      "cell_type": "code",
      "source": [
        "# remove whitespaces on both sides\n",
        "str_trim(bad_text, side = \"both\")\n",
        "#> [1] \"This\"        \"example\"     \"has several\" \"whitespaces\""
      ],
      "metadata": {
        "colab": {
          "base_uri": "https://localhost:8080/",
          "height": 34
        },
        "id": "HJiJ3UbKZ5cB",
        "outputId": "e62fac2c-c349-4a4c-c9ad-3bc4d0a6b0fd"
      },
      "execution_count": 28,
      "outputs": [
        {
          "output_type": "display_data",
          "data": {
            "text/html": [
              "<style>\n",
              ".list-inline {list-style: none; margin:0; padding: 0}\n",
              ".list-inline>li {display: inline-block}\n",
              ".list-inline>li:not(:last-child)::after {content: \"\\00b7\"; padding: 0 .5ex}\n",
              "</style>\n",
              "<ol class=list-inline><li>'This'</li><li>'example'</li><li>'has several'</li><li>'whitespaces'</li></ol>\n"
            ],
            "text/markdown": "1. 'This'\n2. 'example'\n3. 'has several'\n4. 'whitespaces'\n\n\n",
            "text/latex": "\\begin{enumerate*}\n\\item 'This'\n\\item 'example'\n\\item 'has several'\n\\item 'whitespaces'\n\\end{enumerate*}\n",
            "text/plain": [
              "[1] \"This\"        \"example\"     \"has several\" \"whitespaces\""
            ]
          },
          "metadata": {}
        }
      ]
    },
    {
      "cell_type": "markdown",
      "source": [
        "## Basis Manipulation Examples\n",
        "https://www.gastonsanchez.com/r4strings/basic-manipulation-examples.html\n"
      ],
      "metadata": {
        "id": "eC3ygFLcnRqZ"
      }
    },
    {
      "cell_type": "markdown",
      "source": [
        "### 8.1.1 Example: Names of files\n",
        "Imagine that you need to generate the names of 10 data .csv files. All the files have the same prefix name but each of them has a different number: file1.csv, file2.csv, … , file10.csv."
      ],
      "metadata": {
        "id": "XAjDnYFnnXEu"
      }
    },
    {
      "cell_type": "code",
      "source": [
        "paste(\"file\", 1:10, \".csv\", sep = \"\")"
      ],
      "metadata": {
        "colab": {
          "base_uri": "https://localhost:8080/",
          "height": 34
        },
        "id": "MXrY0nBgZ5V-",
        "outputId": "32f6dff5-30ad-4c7d-9e97-6f631d6ff463"
      },
      "execution_count": 29,
      "outputs": [
        {
          "output_type": "display_data",
          "data": {
            "text/html": [
              "<style>\n",
              ".list-inline {list-style: none; margin:0; padding: 0}\n",
              ".list-inline>li {display: inline-block}\n",
              ".list-inline>li:not(:last-child)::after {content: \"\\00b7\"; padding: 0 .5ex}\n",
              "</style>\n",
              "<ol class=list-inline><li>'file1.csv'</li><li>'file2.csv'</li><li>'file3.csv'</li><li>'file4.csv'</li><li>'file5.csv'</li><li>'file6.csv'</li><li>'file7.csv'</li><li>'file8.csv'</li><li>'file9.csv'</li><li>'file10.csv'</li></ol>\n"
            ],
            "text/markdown": "1. 'file1.csv'\n2. 'file2.csv'\n3. 'file3.csv'\n4. 'file4.csv'\n5. 'file5.csv'\n6. 'file6.csv'\n7. 'file7.csv'\n8. 'file8.csv'\n9. 'file9.csv'\n10. 'file10.csv'\n\n\n",
            "text/latex": "\\begin{enumerate*}\n\\item 'file1.csv'\n\\item 'file2.csv'\n\\item 'file3.csv'\n\\item 'file4.csv'\n\\item 'file5.csv'\n\\item 'file6.csv'\n\\item 'file7.csv'\n\\item 'file8.csv'\n\\item 'file9.csv'\n\\item 'file10.csv'\n\\end{enumerate*}\n",
            "text/plain": [
              " [1] \"file1.csv\"  \"file2.csv\"  \"file3.csv\"  \"file4.csv\"  \"file5.csv\" \n",
              " [6] \"file6.csv\"  \"file7.csv\"  \"file8.csv\"  \"file9.csv\"  \"file10.csv\""
            ]
          },
          "metadata": {}
        }
      ]
    },
    {
      "cell_type": "code",
      "source": [
        "paste0(\"file\", 1:10, \".csv\")"
      ],
      "metadata": {
        "colab": {
          "base_uri": "https://localhost:8080/",
          "height": 34
        },
        "id": "ZsHVYOgCnfm1",
        "outputId": "13b8f129-63ae-412b-f92f-9d53defb4965"
      },
      "execution_count": 30,
      "outputs": [
        {
          "output_type": "display_data",
          "data": {
            "text/html": [
              "<style>\n",
              ".list-inline {list-style: none; margin:0; padding: 0}\n",
              ".list-inline>li {display: inline-block}\n",
              ".list-inline>li:not(:last-child)::after {content: \"\\00b7\"; padding: 0 .5ex}\n",
              "</style>\n",
              "<ol class=list-inline><li>'file1.csv'</li><li>'file2.csv'</li><li>'file3.csv'</li><li>'file4.csv'</li><li>'file5.csv'</li><li>'file6.csv'</li><li>'file7.csv'</li><li>'file8.csv'</li><li>'file9.csv'</li><li>'file10.csv'</li></ol>\n"
            ],
            "text/markdown": "1. 'file1.csv'\n2. 'file2.csv'\n3. 'file3.csv'\n4. 'file4.csv'\n5. 'file5.csv'\n6. 'file6.csv'\n7. 'file7.csv'\n8. 'file8.csv'\n9. 'file9.csv'\n10. 'file10.csv'\n\n\n",
            "text/latex": "\\begin{enumerate*}\n\\item 'file1.csv'\n\\item 'file2.csv'\n\\item 'file3.csv'\n\\item 'file4.csv'\n\\item 'file5.csv'\n\\item 'file6.csv'\n\\item 'file7.csv'\n\\item 'file8.csv'\n\\item 'file9.csv'\n\\item 'file10.csv'\n\\end{enumerate*}\n",
            "text/plain": [
              " [1] \"file1.csv\"  \"file2.csv\"  \"file3.csv\"  \"file4.csv\"  \"file5.csv\" \n",
              " [6] \"file6.csv\"  \"file7.csv\"  \"file8.csv\"  \"file9.csv\"  \"file10.csv\""
            ]
          },
          "metadata": {}
        }
      ]
    },
    {
      "cell_type": "code",
      "source": [
        "colors()"
      ],
      "metadata": {
        "id": "JRQa1Hd7nfiA"
      },
      "execution_count": null,
      "outputs": []
    },
    {
      "cell_type": "code",
      "source": [
        "is_color <- function(x) {\n",
        "  x %in% colors()\n",
        "}\n",
        "\n",
        "is_color2 <- function(x) {\n",
        "  any(colors() == x)\n",
        "}"
      ],
      "metadata": {
        "id": "5_ckgUPGnfd3"
      },
      "execution_count": 33,
      "outputs": []
    },
    {
      "cell_type": "code",
      "source": [
        "is_color('yellow')"
      ],
      "metadata": {
        "colab": {
          "base_uri": "https://localhost:8080/",
          "height": 34
        },
        "id": "cmd7dkiHnfaD",
        "outputId": "2667a9c2-f44a-425c-801a-284c5eb310e5"
      },
      "execution_count": 34,
      "outputs": [
        {
          "output_type": "display_data",
          "data": {
            "text/html": [
              "TRUE"
            ],
            "text/markdown": "TRUE",
            "text/latex": "TRUE",
            "text/plain": [
              "[1] TRUE"
            ]
          },
          "metadata": {}
        }
      ]
    },
    {
      "cell_type": "code",
      "source": [
        "is_color2 <- function(x) {\n",
        "  any(colors() == x)\n",
        "}"
      ],
      "metadata": {
        "id": "PJL_nIhInfWY"
      },
      "execution_count": 35,
      "outputs": []
    },
    {
      "cell_type": "markdown",
      "source": [
        "### 8.1.3 Example: Me and You plot"
      ],
      "metadata": {
        "id": "P2hKZnmqopTL"
      }
    },
    {
      "cell_type": "code",
      "source": [
        "set.seed(333)\n",
        "\n",
        "n <- 1000\n",
        "\n",
        "x <- rnorm(n)\n",
        "\n",
        "y <- rnorm(n, 1, 2)"
      ],
      "metadata": {
        "id": "XMDaHPd1nfTN"
      },
      "execution_count": 36,
      "outputs": []
    },
    {
      "cell_type": "code",
      "source": [
        "# graphical parameters\n",
        "op <- par(bg = \"gray10\")\n",
        "# plot text\n",
        "plot(x, y, type = \"n\")\n",
        "text(x, y, \n",
        "     labels = \"me & you\",\n",
        "     col = \"white\")\n",
        "# reset default parameters\n",
        "par(op)"
      ],
      "metadata": {
        "id": "Us_XbJsWnfPD"
      },
      "execution_count": null,
      "outputs": []
    },
    {
      "cell_type": "code",
      "source": [
        "# text size\n",
        "sizes <- runif(n, 0.5, 3)\n",
        "\n",
        "# text color\n",
        "hues <- runif(n, 0.85, 0.95)\n",
        "alphas <- runif(n, 0.1, 1)\n",
        "\n",
        "\n",
        "op <- par(bg = \"gray10\", mar = rep(0, 4))\n",
        "plot(x, y, type = \"n\", axes = FALSE, \n",
        "     xlab = '', ylab = '')\n",
        "text(x, y, \n",
        "     labels = \"me & you\", \n",
        "     font = 3, \n",
        "     col = hsv(hues, 1, 1, alphas),\n",
        "     cex = sizes)\n",
        "par(op)"
      ],
      "metadata": {
        "id": "tSW_-ZDonfL-"
      },
      "execution_count": null,
      "outputs": []
    },
    {
      "cell_type": "code",
      "source": [
        ""
      ],
      "metadata": {
        "id": "igQwchi0pN-z"
      },
      "execution_count": null,
      "outputs": []
    },
    {
      "cell_type": "code",
      "source": [
        ""
      ],
      "metadata": {
        "id": "Quj_nyB7pN8J"
      },
      "execution_count": null,
      "outputs": []
    },
    {
      "cell_type": "code",
      "source": [
        ""
      ],
      "metadata": {
        "id": "SzXgLNm9pN5n"
      },
      "execution_count": null,
      "outputs": []
    },
    {
      "cell_type": "code",
      "source": [
        ""
      ],
      "metadata": {
        "id": "-3XkR8bOpN3L"
      },
      "execution_count": null,
      "outputs": []
    },
    {
      "cell_type": "code",
      "source": [
        ""
      ],
      "metadata": {
        "id": "cAHPrrVPpN0t"
      },
      "execution_count": null,
      "outputs": []
    },
    {
      "cell_type": "code",
      "source": [
        ""
      ],
      "metadata": {
        "id": "Ugr6-VCtpNv9"
      },
      "execution_count": null,
      "outputs": []
    },
    {
      "cell_type": "code",
      "source": [
        ""
      ],
      "metadata": {
        "id": "0kxMH9FYpNtj"
      },
      "execution_count": null,
      "outputs": []
    },
    {
      "cell_type": "code",
      "source": [
        ""
      ],
      "metadata": {
        "id": "R0IzMlg1pNrJ"
      },
      "execution_count": null,
      "outputs": []
    },
    {
      "cell_type": "code",
      "source": [
        ""
      ],
      "metadata": {
        "id": "F0Pbwz_spNor"
      },
      "execution_count": null,
      "outputs": []
    },
    {
      "cell_type": "code",
      "source": [
        ""
      ],
      "metadata": {
        "id": "fhwS-FaApNl2"
      },
      "execution_count": null,
      "outputs": []
    }
  ]
}